{
 "metadata": {
  "language_info": {
   "codemirror_mode": {
    "name": "ipython",
    "version": 3
   },
   "file_extension": ".py",
   "mimetype": "text/x-python",
   "name": "python",
   "nbconvert_exporter": "python",
   "pygments_lexer": "ipython3",
   "version": "3.9.2-final"
  },
  "orig_nbformat": 2,
  "kernelspec": {
   "name": "python3",
   "display_name": "Python 3.9.2 64-bit ('pychess_env_windows')",
   "metadata": {
    "interpreter": {
     "hash": "e3acdd6423c281a1ecc148620ff02fce1749a0ca8e92a573d07a444e15c0dedb"
    }
   }
  }
 },
 "nbformat": 4,
 "nbformat_minor": 2,
 "cells": [
  {
   "cell_type": "code",
   "execution_count": 12,
   "metadata": {},
   "outputs": [
    {
     "output_type": "stream",
     "name": "stdout",
     "text": [
      "\t\t\t\t     BOARD\n      0     1     2     3     4     5     6     7\n0   [ 21 ] [ 22 ] [ 23 ] [ 24 ] [ 25 ] [ 26 ] [ 27 ] [ 28 ] \n1   [ 31 ] [ 32 ] [ 33 ] [ 34 ] [ 35 ] [ 36 ] [ 37 ] \n2   [ 41 ] [ 42 ] [ 43 ] [ 44 ] [ 45 ] [ 46 ] [ 47 ] \n3   [ 51 ] [ 52 ] [ 53 ] [ 54 ] [ 55 ] [ 56 ] [ 57 ] \n4   [ 61 ] [ 62 ] [ 63 ] [ 64 ] [ 65 ] [ 66 ] [ 67 ] \n5   [ 71 ] [ 72 ] [ 73 ] [ 74 ] [ 75 ] [ 76 ] [ 77 ] \n6   [ 81 ] [ 82 ] [ 83 ] [ 84 ] [ 85 ] [ 86 ] [ 87 ] \n7   [ 91 ] [ 92 ] [ 93 ] [ 94 ] [ 95 ] [ 96 ] [ 97 ] \n8   "
     ]
    }
   ],
   "source": [
    "x = 0\n",
    "print('\\t\\t\\t\\t     BOARD')\n",
    "print('      0     1     2     3     4     5     6     7')\n",
    "print(x, end='   ')\n",
    "i = 0\n",
    "for index in range(21, 99):\n",
    "    if i % 8 == 0 and i != 0:\n",
    "        x += 1\n",
    "        print()\n",
    "        print(x, end='   ')\n",
    "        i += 1\n",
    "    elif index % 10 != 0 and (index + 1) % 10 != 0:\n",
    "        print(f'[ {index} ]', end=' ')\n",
    "        i += 1"
   ]
  },
  {
   "cell_type": "code",
   "execution_count": null,
   "metadata": {},
   "outputs": [],
   "source": []
  }
 ]
}