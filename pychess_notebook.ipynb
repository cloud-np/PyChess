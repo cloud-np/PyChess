{
 "cells": [
  {
   "cell_type": "code",
   "execution_count": 2,
   "metadata": {},
   "outputs": [
    {
     "name": "stdout",
     "output_type": "stream",
     "text": [
      "\t\t\t\t     BOARD\n",
      "      0     1     2     3     4     5     6     7\n",
      "0   [ 21 ] [ 22 ] [ 23 ] [ 24 ] [ 25 ] [ 26 ] [ 27 ] [ 28 ] \n",
      "1   [ 31 ] [ 32 ] [ 33 ] [ 34 ] [ 35 ] [ 36 ] [ 37 ] \n",
      "2   [ 41 ] [ 42 ] [ 43 ] [ 44 ] [ 45 ] [ 46 ] [ 47 ] \n",
      "3   [ 51 ] [ 52 ] [ 53 ] [ 54 ] [ 55 ] [ 56 ] [ 57 ] \n",
      "4   [ 61 ] [ 62 ] [ 63 ] [ 64 ] [ 65 ] [ 66 ] [ 67 ] \n",
      "5   [ 71 ] [ 72 ] [ 73 ] [ 74 ] [ 75 ] [ 76 ] [ 77 ] \n",
      "6   [ 81 ] [ 82 ] [ 83 ] [ 84 ] [ 85 ] [ 86 ] [ 87 ] \n",
      "7   [ 91 ] [ 92 ] [ 93 ] [ 94 ] [ 95 ] [ 96 ] [ 97 ] \n",
      "8   "
     ]
    }
   ],
   "source": [
    "x = 0\n",
    "print('\\t\\t\\t\\t     BOARD')\n",
    "print('      0     1     2     3     4     5     6     7')\n",
    "print(x, end='   ')\n",
    "i = 0\n",
    "for index in range(21, 99):\n",
    "    if i % 8 == 0 and i != 0:\n",
    "        x += 1\n",
    "        print()\n",
    "        print(x, end='   ')\n",
    "        i += 1\n",
    "    elif index % 10 != 0 and (index + 1) % 10 != 0:\n",
    "        print(f'[ {index} ]', end=' ')\n",
    "        i += 1"
   ]
  },
  {
   "cell_type": "code",
   "execution_count": 3,
   "metadata": {},
   "outputs": [],
   "source": [
    "class Piece:\n",
    "    \"\"\"Base class that holds info about the piece.\"\"\"\n",
    "\n",
    "    EMPTY = 0x0  # 0\n",
    "    KING = 0x1  # 1\n",
    "    PAWN = 0x2  # 2\n",
    "    KNIGHT = 0x3  # 3\n",
    "    BISHOP = 0x4  # 4\n",
    "    ROOK = 0x5  # 5\n",
    "    QUEEN = 0x6  # 6\n",
    "\n",
    "    A_PAWN = 0x10  # 16\n",
    "    B_PAWN = 0x20  # 32\n",
    "    C_PAWN = 0x30  # 48\n",
    "    D_PAWN = 0x40  # 64\n",
    "    E_PAWN = 0x50  # 80\n",
    "    F_PAWN = 0x60  # 96\n",
    "    G_PAWN = 0x70  # 112\n",
    "    H_PAWN = 0x80  # 128\n",
    "    LEFT_PIECE = 0x90  # 144\n",
    "    RIGHT_PIECE = 0xA0  # 160\n",
    "\n",
    "    WHITE = 0x100  # 256\n",
    "    BLACK = 0x200  # 512\n",
    "    INVALID = 0x300  # 4096\n",
    "\n",
    "    TYPE_MASK = 0xF  # 7\n",
    "    # ANTI_TYPE_MASK = 0xFF0\n",
    "    UNIQUE_PIECE_MASK = 0xF0  # 240\n",
    "    COLOR_MASK = 0xF00  # 3840\n",
    "\n",
    "    WK_R_CASTLE = [(7, 5), (7, 6)]\n",
    "    BK_R_CASTLE = [(0, 5), (0, 6)]\n",
    "    WK_L_CASTLE = [(7, 3), (7, 2), (7, 1)]\n",
    "    BK_L_CASTLE = [(0, 3), (0, 2), (0, 1)]\n",
    "\n",
    "    WHITE_KING = WHITE | KING\n",
    "    BLACK_KING = BLACK | KING"
   ]
  },
  {
   "cell_type": "code",
   "execution_count": 18,
   "metadata": {},
   "outputs": [],
   "source": [
    "class MoveType:\n",
    "\n",
    "    # Castling\n",
    "    # 4 bits\n",
    "    WL_CASTLE = 0x1\n",
    "    WR_CASTLE = 0x2\n",
    "    BL_CASTLE = 0x3\n",
    "    BR_CASTLE = 0x4\n",
    "\n",
    "    CASTLE_MASK = 0xF\n",
    "    EN_PASSANT_MASK = 0xFF\n",
    "    FIFITY_MOVE_MASK = 0xFF\n",
    "\n",
    "    # Captured Piece\n",
    "    # 16 bits\n",
    "\n",
    "    # Enpassant\n"
   ]
  },
  {
   "cell_type": "code",
   "execution_count": 22,
   "metadata": {},
   "outputs": [],
   "source": [
    "movetype = MoveType.BL_CASTLE\n",
    "movetype |= (Piece.WHITE | Piece.LEFT_PIECE | Piece.BISHOP) << 4\n",
    "movetype |= 32 << 16\n",
    "movetype |= 50 << 24"
   ]
  },
  {
   "cell_type": "code",
   "execution_count": 25,
   "metadata": {},
   "outputs": [
    {
     "data": {
      "text/plain": [
       "50"
      ]
     },
     "execution_count": 25,
     "metadata": {},
     "output_type": "execute_result"
    }
   ],
   "source": [
    "# movetype & MoveType.CASTLE_MASK\n",
    "(movetype >> 16) & MoveType.EN_PASSANT_MASK"
   ]
  },
  {
   "cell_type": "code",
   "execution_count": 27,
   "metadata": {},
   "outputs": [
    {
     "data": {
      "text/plain": [
       "'0xf'"
      ]
     },
     "execution_count": 27,
     "metadata": {},
     "output_type": "execute_result"
    }
   ],
   "source": [
    "hex(16)"
   ]
  },
  {
   "cell_type": "code",
   "execution_count": null,
   "metadata": {},
   "outputs": [],
   "source": []
  }
 ],
 "metadata": {
  "kernelspec": {
   "display_name": "Python 3.10.6 ('venv': venv)",
   "language": "python",
   "name": "python3"
  },
  "language_info": {
   "codemirror_mode": {
    "name": "ipython",
    "version": 3
   },
   "file_extension": ".py",
   "mimetype": "text/x-python",
   "name": "python",
   "nbconvert_exporter": "python",
   "pygments_lexer": "ipython3",
   "version": "3.10.6"
  },
  "orig_nbformat": 2,
  "vscode": {
   "interpreter": {
    "hash": "77df39c54c256502d5210e5269302c64f00cec2630baeadb8cbe5d5b42dc80a4"
   }
  }
 },
 "nbformat": 4,
 "nbformat_minor": 2
}
