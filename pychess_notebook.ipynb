{
 "cells": [
  {
   "cell_type": "code",
   "execution_count": 2,
   "metadata": {},
   "outputs": [
    {
     "name": "stdout",
     "output_type": "stream",
     "text": [
      "\t\t\t\t     BOARD\n",
      "      0     1     2     3     4     5     6     7\n",
      "0   [ 21 ] [ 22 ] [ 23 ] [ 24 ] [ 25 ] [ 26 ] [ 27 ] [ 28 ] \n",
      "1   [ 31 ] [ 32 ] [ 33 ] [ 34 ] [ 35 ] [ 36 ] [ 37 ] \n",
      "2   [ 41 ] [ 42 ] [ 43 ] [ 44 ] [ 45 ] [ 46 ] [ 47 ] \n",
      "3   [ 51 ] [ 52 ] [ 53 ] [ 54 ] [ 55 ] [ 56 ] [ 57 ] \n",
      "4   [ 61 ] [ 62 ] [ 63 ] [ 64 ] [ 65 ] [ 66 ] [ 67 ] \n",
      "5   [ 71 ] [ 72 ] [ 73 ] [ 74 ] [ 75 ] [ 76 ] [ 77 ] \n",
      "6   [ 81 ] [ 82 ] [ 83 ] [ 84 ] [ 85 ] [ 86 ] [ 87 ] \n",
      "7   [ 91 ] [ 92 ] [ 93 ] [ 94 ] [ 95 ] [ 96 ] [ 97 ] \n",
      "8   "
     ]
    }
   ],
   "source": [
    "x = 0\n",
    "print('\\t\\t\\t\\t     BOARD')\n",
    "print('      0     1     2     3     4     5     6     7')\n",
    "print(x, end='   ')\n",
    "i = 0\n",
    "for index in range(21, 99):\n",
    "    if i % 8 == 0 and i != 0:\n",
    "        x += 1\n",
    "        print()\n",
    "        print(x, end='   ')\n",
    "        i += 1\n",
    "    elif index % 10 != 0 and (index + 1) % 10 != 0:\n",
    "        print(f'[ {index} ]', end=' ')\n",
    "        i += 1"
   ]
  },
  {
   "cell_type": "code",
   "execution_count": 16,
   "metadata": {},
   "outputs": [],
   "source": [
    "class Piece:\n",
    "    def __init__(self, coords, piece_code, name):\n",
    "        self.name = name\n",
    "        self.piece_code = piece_code\n",
    "        self.coords = coords\n",
    "    \n",
    "    def __str__(self):\n",
    "        print(\"I am a Piece.\")\n",
    "\n",
    "    def __eq__(self, other: 'Piece'):\n",
    "        \"\"\"Overload the == when it is applied on two Piece classes to check if they are equal based on their coords and piececode.\"\"\"\n",
    "        return self.__key() == other.__key()\n",
    "\n",
    "    def __key(self):\n",
    "        return tuple([self.piece_code, *self.coords])\n",
    "\n",
    "    def __hash__(self):\n",
    "        \"\"\"Make the obj hashable so it can be used in Sets etc.\"\"\"\n",
    "        return hash(self.__key())\n",
    "\n",
    "\n",
    "class Pawn(Piece):\n",
    "    def __init__(self, coords, piece_code, name):\n",
    "        self.type = \"pawn\"\n",
    "        super().__init__(coords, piece_code, name)\n",
    "    \n",
    "    def __str__(self):\n",
    "        print(\"I am a Pawn.\")\n",
    "        return ''\n",
    "\n",
    "class Rook(Piece):\n",
    "    def __init__(self, coords, piece_code, name):\n",
    "        self.type = \"rook\"\n",
    "        super().__init__(coords, piece_code, name)\n",
    "    \n",
    "    def __str__(self):\n",
    "        print(\"I am a Rook.\")\n",
    "        return ''"
   ]
  },
  {
   "cell_type": "code",
   "execution_count": 81,
   "metadata": {},
   "outputs": [],
   "source": [
    "class BoardStateList(list):\n",
    "    def __init__(self, *args, **kwargs):\n",
    "        super(BoardStateList, self).__init__(args[0])\n",
    "\n",
    "    def __setitem__(self, indexes, o):\n",
    "        self[indexes[0]][indexes[1]] = o \n",
    "        # for i in indexes:\n",
    "        #     if not 0 <= i <= 7:\n",
    "        #         return -1\n",
    "        # return super().__setitem__(indexes[0]).__getitem__(indexes[1])\n",
    "\n",
    "    def __getitem__(self, indexes):\n",
    "        if type(indexes) is int:\n",
    "            return super().__getitem__(indexes)\n",
    "        for i in indexes:\n",
    "            if not 0 <= i <= 7:\n",
    "                return -1\n",
    "        return super().__getitem__(indexes[0]).__getitem__(indexes[1])\n",
    "\n",
    "ep = BoardStateList([[0, 1, 2], [3, 4, 5], [6, 7, 8]])\n",
    "ep[1, 1] = 2\n",
    "# print(ep[1, 1])"
   ]
  },
  {
   "cell_type": "code",
   "execution_count": 6,
   "metadata": {},
   "outputs": [
    {
     "name": "stdout",
     "output_type": "stream",
     "text": [
      "(-1, 1)\n",
      "(-1, -2)\n",
      "(-1, 2)\n",
      "(1, -1)\n",
      "(1, -2)\n",
      "(1, 2)\n",
      "(-2, -1)\n",
      "(-2, 1)\n",
      "(-2, 2)\n",
      "(2, -1)\n",
      "(2, 1)\n",
      "(2, -2)\n"
     ]
    }
   ],
   "source": [
    "# pawn = Pawn((2, 3), 0, 'e')\n",
    "# pawn1 = Pawn((3, 4), 1, 'e')\n",
    "# pawn2 = Pawn((4, 5), 2, 'e')\n",
    "# pawn3 = Pawn((8, 7), 7, 'e')\n",
    "# pawnList = [pawn, pawn1, pawn2, pawn3]\n",
    "# list_a = [[0, 1, 2],\n",
    "#          [3, 4, 5],\n",
    "#          [6, 7, 8]]\n",
    "# list_a[-1]\n"
   ]
  },
  {
   "cell_type": "code",
   "execution_count": null,
   "metadata": {},
   "outputs": [],
   "source": []
  }
 ],
 "metadata": {
  "kernelspec": {
   "display_name": "Python 3.9.2 64-bit ('pychess_env_windows')",
   "metadata": {
    "interpreter": {
     "hash": "e3acdd6423c281a1ecc148620ff02fce1749a0ca8e92a573d07a444e15c0dedb"
    }
   },
   "name": "python3"
  },
  "language_info": {
   "codemirror_mode": {
    "name": "ipython",
    "version": 3
   },
   "file_extension": ".py",
   "mimetype": "text/x-python",
   "name": "python",
   "nbconvert_exporter": "python",
   "pygments_lexer": "ipython3",
   "version": "3.8.10"
  },
  "orig_nbformat": 2
 },
 "nbformat": 4,
 "nbformat_minor": 2
}
